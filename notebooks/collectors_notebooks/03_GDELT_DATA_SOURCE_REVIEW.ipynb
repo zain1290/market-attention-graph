{
 "cells": [
  {
   "cell_type": "markdown",
   "id": "8f69d050656a0c6d",
   "metadata": {},
   "source": [
    "# GDELT News Stream\n",
    "\n",
    "This notebook polls the **GDELT 2.0 Doc API** every 15 minutes, scrapes headlines that\n",
    "mention any of a set of tickers / company names, and stores the result in a local\n",
    "DuckDB file.  It mirrors the architecture of our Alpaca price‑stream notebook so\n",
    "that data from both sources can be joined later.\n",
    "\n",
    "**Why do this?**  The goal is to measure *market attention*—how often companies are\n",
    "talked about in the news—side‑by‑side with live price data.\n",
    "\n",
    "**Key steps**\n",
    "1. Define the watch‑list of companies/tickers.\n",
    "2. Build an async fetcher that pages through the GDELT \"ArtList\" endpoint.\n",
    "3. Normalise & deduplicate articles.\n",
    "4. Store both articles and their ticker‑mentions in DuckDB tables.\n",
    "5. Explore the data (quick sanity checks & visualisations).\n",
    "\n",
    "---\n"
   ]
  },
  {
   "cell_type": "markdown",
   "id": "eae57fe40dfe443",
   "metadata": {},
   "source": [
    "## Imports & configuration\n",
    "Most of these are standard data‑science libraries.  *`nest_asyncio`* lets us run\n",
    "an asyncio loop inside a Jupyter kernel.\n",
    "\n"
   ]
  },
  {
   "cell_type": "code",
   "execution_count": 1,
   "id": "c60247947af5b0af",
   "metadata": {
    "ExecuteTime": {
     "end_time": "2025-07-14T21:47:48.913919Z",
     "start_time": "2025-07-14T21:47:47.094749Z"
    }
   },
   "outputs": [],
   "source": [
    "import asyncio\n",
    "import aiohttp\n",
    "import hashlib\n",
    "import duckdb\n",
    "import nest_asyncio\n",
    "import pandas as pd\n",
    "from datetime import datetime, timezone, timedelta\n",
    "from pathlib import Path\n",
    "from urllib.parse import quote_plus\n",
    "\n",
    "nest_asyncio.apply()\n"
   ]
  },
  {
   "cell_type": "markdown",
   "id": "f05786c2aacd427",
   "metadata": {},
   "source": [
    "### Watch‑list\n",
    "Map **company names → stock tickers** so we can detect both in headlines."
   ]
  },
  {
   "cell_type": "code",
   "execution_count": 2,
   "id": "4af08f3dc91c47de",
   "metadata": {
    "ExecuteTime": {
     "end_time": "2025-07-14T21:47:56.048582Z",
     "start_time": "2025-07-14T21:47:56.039767Z"
    }
   },
   "outputs": [
    {
     "name": "stdout",
     "output_type": "stream",
     "text": [
      "Keywords: ['Google', 'Apple', 'Amazon', 'Nvidia', 'Microsoft', 'Bitcoin', 'Ripple']\n"
     ]
    }
   ],
   "source": [
    "COMPANY_NAMES = {\n",
    "    \"Google\": \"GOOGL\",\n",
    "    \"Apple\": \"AAPL\",\n",
    "    \"Amazon\": \"AMZN\",\n",
    "    \"Nvidia\": \"NVDA\",\n",
    "    \"Microsoft\": \"MSFT\",\n",
    "    \"Bitcoin\": \"BTC\",\n",
    "    \"Ripple\": \"XRP\",\n",
    "}\n",
    "\n",
    "keywords = list(COMPANY_NAMES.keys())  # for the query string\n",
    "print(\"Keywords:\", keywords)\n"
   ]
  },
  {
   "cell_type": "markdown",
   "id": "4654931fe389eea",
   "metadata": {},
   "source": [
    "### GDELT API endpoint\n",
    "We hit the *Doc 2* “ArtList” mode which returns JSON metadata for up to 250\n",
    "articles per page.\n"
   ]
  },
  {
   "cell_type": "code",
   "execution_count": 3,
   "id": "5bd43cd67bfad202",
   "metadata": {
    "ExecuteTime": {
     "end_time": "2025-07-14T21:48:05.741151Z",
     "start_time": "2025-07-14T21:48:05.731989Z"
    }
   },
   "outputs": [
    {
     "name": "stdout",
     "output_type": "stream",
     "text": [
      "Endpoint example:\n",
      "https://api.gdeltproject.org/api/v2/doc/doc?query=%28%22Google%22+OR+%22Apple%22+OR+%22Amazon%22+OR+%22Nvidia%22+OR+%22Microsoft%22+OR+%22Bitcoin%22+OR+%22Ripple%22%29&mode=ArtList&maxrecords=250&STARTDATETIME=20250714214805&ENDDATETIME=20250714214805&page=1&format=json\n"
     ]
    }
   ],
   "source": [
    "GDELT_URL = (\n",
    "    \"https://api.gdeltproject.org/api/v2/doc/doc?\"\n",
    "    \"query={query}&mode=ArtList&maxrecords=250&STARTDATETIME={start}\" \n",
    "    \"&ENDDATETIME={end}&page={page}&format=json\"\n",
    ")\n",
    "\n",
    "# Build the OR‑joined search expression, quoted as required by the API.\n",
    "QUERY = \"(\" + \" OR \".join(f'\"{kw}\"' for kw in keywords) + \")\"\n",
    "print(\"Endpoint example:\")\n",
    "print(GDELT_URL.format(\n",
    "    query=quote_plus(QUERY),\n",
    "    page=1,\n",
    "    start=datetime.utcnow().strftime(\"%Y%m%d%H%M%S\"),\n",
    "    end=datetime.utcnow().strftime(\"%Y%m%d%H%M%S\"),\n",
    "))\n"
   ]
  },
  {
   "cell_type": "markdown",
   "id": "57faff9ab952d543",
   "metadata": {},
   "source": [
    "### Local DuckDB database\n",
    "The same file will later also hold our Alpaca price stream so that we can join\n",
    "on timestamps.\n"
   ]
  },
  {
   "cell_type": "code",
   "execution_count": 4,
   "id": "e31475000637cd9b",
   "metadata": {
    "ExecuteTime": {
     "end_time": "2025-07-14T21:48:11.065774Z",
     "start_time": "2025-07-14T21:48:11.056780Z"
    }
   },
   "outputs": [
    {
     "name": "stdout",
     "output_type": "stream",
     "text": [
      "DB path: C:\\Users\\zaina\\PycharmProjects\\Market-Attention-Graph\\notebooks\\collectors_notebooks\\data\\market_attention.duckdb\n"
     ]
    }
   ],
   "source": [
    "DB_PATH = (Path.cwd() / \"data\" / \"market_attention.duckdb\").resolve()\n",
    "DB_PATH.parent.mkdir(parents=True, exist_ok=True)\n",
    "print(\"DB path:\", DB_PATH)\n"
   ]
  },
  {
   "cell_type": "markdown",
   "id": "3c11600a2a9cb79c",
   "metadata": {},
   "source": [
    "## Helper functions\n",
    "* `hash_id` — stable SHA‑256 hash of the article URL (primary key).\n",
    "* `fetch_news` — async crawler that pages until < 250 results returned.\n",
    "* `save_to_db` — stores articles + per‑ticker mention rows.\n"
   ]
  },
  {
   "metadata": {
    "ExecuteTime": {
     "end_time": "2025-07-15T15:33:06.055562Z",
     "start_time": "2025-07-15T15:33:06.020990Z"
    }
   },
   "cell_type": "code",
   "source": [
    "\n",
    "def hash_id(text: str) -> str:\n",
    "    \"\"\"Return a deterministic 64‑char hex digest for *text*.\"\"\"\n",
    "    return hashlib.sha256(text.encode()).hexdigest()\n",
    "\n",
    "\n",
    "async def fetch_news(session: aiohttp.ClientSession, *, hours: int = 1):\n",
    "    \"\"\"Fetch headlines from the past *hours* hours.\n",
    "\n",
    "    Returns a list of article dicts as the GDELT API sends them.\n",
    "    \"\"\"\n",
    "    all_articles, page = [], 1\n",
    "    now = datetime.utcnow().replace(tzinfo=timezone.utc)\n",
    "    start = now - timedelta(hours=hours)\n",
    "\n",
    "    while True:\n",
    "        url = GDELT_URL.format(\n",
    "            query=quote_plus(QUERY),\n",
    "            page=page,\n",
    "            start=start.strftime(\"%Y%m%d%H%M%S\"),\n",
    "            end=now.strftime(\"%Y%m%d%H%M%S\"),\n",
    "        )\n",
    "        async with session.get(url) as resp:\n",
    "            if resp.status != 200:\n",
    "                print(f\"[{datetime.utcnow()}] GDELT fetch failed: {resp.status}\")\n",
    "                break\n",
    "            data = await resp.json()\n",
    "            rows = data.get(\"articles\", [])\n",
    "            all_articles.extend(rows)\n",
    "\n",
    "        if len(rows) <= 250:  # last page reached\n",
    "            break\n",
    "        page += 1\n",
    "\n",
    "    return all_articles\n",
    "\n",
    "\n",
    "def save_to_db(con: duckdb.DuckDBPyConnection, articles: list[dict]):\n",
    "    \"\"\"Persist *articles* and their ticker mentions.\"\"\"\n",
    "    # --- ensure tables exist ---\n",
    "    con.execute(\n",
    "        \"\"\"\n",
    "        CREATE TABLE IF NOT EXISTS news_articles (\n",
    "            article_id TEXT PRIMARY KEY,\n",
    "            title TEXT,\n",
    "            timestamp TIMESTAMP\n",
    "        );\n",
    "        \"\"\"\n",
    "    )\n",
    "\n",
    "    con.execute(\n",
    "        \"\"\"\n",
    "        CREATE TABLE IF NOT EXISTS ticker_mentions (\n",
    "            article_id TEXT,\n",
    "            ticker TEXT\n",
    "        );\n",
    "        \"\"\"\n",
    "    )\n",
    "\n",
    "    # --- upsert loop ---\n",
    "    for art in articles:\n",
    "        article_id = hash_id(art[\"url\"])\n",
    "        title = art.get(\"title\", \"\")\n",
    "        published = art.get(\"seendate\")  # format: YYYYMMDDhhmmssZ\n",
    "        if not published:\n",
    "            continue\n",
    "        clean = published.replace(\"T\", \"\").rstrip(\"Z\")\n",
    "        timestamp = datetime.strptime(clean, \"%Y%m%d%H%M%S\").replace(tzinfo=timezone.utc)\n",
    "\n",
    "        # Which tickers does this headline mention?\n",
    "        mentions = [\n",
    "            ticker\n",
    "            for name, ticker in COMPANY_NAMES.items()\n",
    "            if (name.lower() in title.lower()) or (ticker.lower() in title.lower())\n",
    "        ]\n",
    "        if not mentions:\n",
    "            continue  # skip if no company of interest found\n",
    "\n",
    "        # --- write article row ---\n",
    "        try:\n",
    "            con.execute(\n",
    "                \"INSERT INTO news_articles VALUES (?, ?, ?)\",\n",
    "                (article_id, title, timestamp),\n",
    "            )\n",
    "        except duckdb.ConstraintException:\n",
    "            pass  # duplicate headline, ignore\n",
    "\n",
    "        # --- write mention rows ---\n",
    "        for ticker in mentions:\n",
    "            con.execute(\n",
    "                \"INSERT INTO ticker_mentions VALUES (?, ?)\",\n",
    "                (article_id, ticker),\n",
    "            )\n"
   ],
   "id": "9660b188a64a3853",
   "outputs": [],
   "execution_count": 37
  },
  {
   "cell_type": "markdown",
   "id": "64f2e52a407fe513",
   "metadata": {},
   "source": [
    "## Poll loop (15‑minute cadence)\n",
    "This mirrors the *writer* loop in the price‑stream notebook.  Feel free to stop\n",
    "it with <kbd>Interrupt</kbd> once you see data accumulating.\n"
   ]
  },
  {
   "cell_type": "code",
   "execution_count": 6,
   "id": "9123e2872db16ef0",
   "metadata": {
    "ExecuteTime": {
     "end_time": "2025-07-14T21:48:20.169080Z",
     "start_time": "2025-07-14T21:48:20.156291Z"
    }
   },
   "outputs": [],
   "source": [
    "async def poll_gdelt(hours_back: int = 1, sleep_seconds: int = 900):\n",
    "    \"\"\"Endless loop: fetch → save → sleep.\"\"\"\n",
    "    con = duckdb.connect(DB_PATH)\n",
    "    async with aiohttp.ClientSession() as session:\n",
    "        while True:\n",
    "            print(f\"[{datetime.utcnow()}] Polling GDELT…\")\n",
    "            articles = await fetch_news(session, hours=hours_back)\n",
    "            if articles:\n",
    "                print(f\"[+] {len(articles):,} articles fetched → saving to DB…\")\n",
    "                save_to_db(con, articles)\n",
    "            else:\n",
    "                print(\"[-] No articles returned.\")\n",
    "            await asyncio.sleep(sleep_seconds)\n"
   ]
  },
  {
   "cell_type": "markdown",
   "id": "8c13c1365fd119d3",
   "metadata": {},
   "source": [
    "**Run the poller**\n",
    "The call below starts the background loop.  Stop it with *Kernel → Interrupt*.\n"
   ]
  },
  {
   "cell_type": "code",
   "execution_count": 14,
   "id": "b1353b6c3ccef0aa",
   "metadata": {
    "ExecuteTime": {
     "end_time": "2025-07-14T22:02:17.493491Z",
     "start_time": "2025-07-14T22:02:17.485973Z"
    }
   },
   "outputs": [],
   "source": [
    "await poll_gdelt()"
   ]
  },
  {
   "cell_type": "markdown",
   "id": "c21170ab4bddfb92",
   "metadata": {},
   "source": [
    "## Quick exploration\n",
    "Once you have some data, you can run the cells below to check what came in.\n"
   ]
  },
  {
   "metadata": {
    "ExecuteTime": {
     "end_time": "2025-07-15T15:05:31.597451Z",
     "start_time": "2025-07-15T15:05:31.548703Z"
    }
   },
   "cell_type": "code",
   "source": [
    "EXAMPLE_DB = (Path.cwd().parent.parent / \"src\" / \"data\" / \"market_attention.duckdb\").resolve()\n",
    "\n",
    "con = duckdb.connect(EXAMPLE_DB)\n",
    "df = con.execute(\"SELECT title, timestamp FROM news_articles ORDER BY timestamp DESC LIMIT 10\").fetchdf()\n",
    "display(df)"
   ],
   "id": "af777db6ce5017de",
   "outputs": [
    {
     "data": {
      "text/plain": [
       "                                               title           timestamp\n",
       "0  XRP price : Bitcoin , Ether , XRP to witness 2... 2025-07-15 17:45:00\n",
       "1  Grayscale Confidentially Files for Potential I... 2025-07-15 17:45:00\n",
       "2  RICH Miner Launches XRP - Powered Cloud Mining... 2025-07-15 17:45:00\n",
       "3  Apple Reportedly Taps Samsung Display for Firs... 2025-07-15 17:45:00\n",
       "4   » Prime Day «: Amazon wegen vermeintlicher So... 2025-07-15 17:45:00\n",
       "5  Function Ushers in the Era of Bitcoin Yield Wi... 2025-07-15 17:45:00\n",
       "6  Kunden mit falschen Rabatten getäuscht : Niede... 2025-07-15 17:45:00\n",
       "7  Google signs agreement with Brookfield for 3GW... 2025-07-15 17:45:00\n",
       "8     US stocks drift as Nvidia leads gains for tech 2025-07-15 17:45:00\n",
       "9  Bitcoin gains tempered by profit - taking , US... 2025-07-15 17:45:00"
      ],
      "text/html": [
       "<div>\n",
       "<style scoped>\n",
       "    .dataframe tbody tr th:only-of-type {\n",
       "        vertical-align: middle;\n",
       "    }\n",
       "\n",
       "    .dataframe tbody tr th {\n",
       "        vertical-align: top;\n",
       "    }\n",
       "\n",
       "    .dataframe thead th {\n",
       "        text-align: right;\n",
       "    }\n",
       "</style>\n",
       "<table border=\"1\" class=\"dataframe\">\n",
       "  <thead>\n",
       "    <tr style=\"text-align: right;\">\n",
       "      <th></th>\n",
       "      <th>title</th>\n",
       "      <th>timestamp</th>\n",
       "    </tr>\n",
       "  </thead>\n",
       "  <tbody>\n",
       "    <tr>\n",
       "      <th>0</th>\n",
       "      <td>XRP price : Bitcoin , Ether , XRP to witness 2...</td>\n",
       "      <td>2025-07-15 17:45:00</td>\n",
       "    </tr>\n",
       "    <tr>\n",
       "      <th>1</th>\n",
       "      <td>Grayscale Confidentially Files for Potential I...</td>\n",
       "      <td>2025-07-15 17:45:00</td>\n",
       "    </tr>\n",
       "    <tr>\n",
       "      <th>2</th>\n",
       "      <td>RICH Miner Launches XRP - Powered Cloud Mining...</td>\n",
       "      <td>2025-07-15 17:45:00</td>\n",
       "    </tr>\n",
       "    <tr>\n",
       "      <th>3</th>\n",
       "      <td>Apple Reportedly Taps Samsung Display for Firs...</td>\n",
       "      <td>2025-07-15 17:45:00</td>\n",
       "    </tr>\n",
       "    <tr>\n",
       "      <th>4</th>\n",
       "      <td>» Prime Day «: Amazon wegen vermeintlicher So...</td>\n",
       "      <td>2025-07-15 17:45:00</td>\n",
       "    </tr>\n",
       "    <tr>\n",
       "      <th>5</th>\n",
       "      <td>Function Ushers in the Era of Bitcoin Yield Wi...</td>\n",
       "      <td>2025-07-15 17:45:00</td>\n",
       "    </tr>\n",
       "    <tr>\n",
       "      <th>6</th>\n",
       "      <td>Kunden mit falschen Rabatten getäuscht : Niede...</td>\n",
       "      <td>2025-07-15 17:45:00</td>\n",
       "    </tr>\n",
       "    <tr>\n",
       "      <th>7</th>\n",
       "      <td>Google signs agreement with Brookfield for 3GW...</td>\n",
       "      <td>2025-07-15 17:45:00</td>\n",
       "    </tr>\n",
       "    <tr>\n",
       "      <th>8</th>\n",
       "      <td>US stocks drift as Nvidia leads gains for tech</td>\n",
       "      <td>2025-07-15 17:45:00</td>\n",
       "    </tr>\n",
       "    <tr>\n",
       "      <th>9</th>\n",
       "      <td>Bitcoin gains tempered by profit - taking , US...</td>\n",
       "      <td>2025-07-15 17:45:00</td>\n",
       "    </tr>\n",
       "  </tbody>\n",
       "</table>\n",
       "</div>"
      ]
     },
     "metadata": {},
     "output_type": "display_data"
    }
   ],
   "execution_count": 34
  },
  {
   "metadata": {},
   "cell_type": "markdown",
   "source": "### Mention counts per ticker\n",
   "id": "448a16d48235a2c"
  },
  {
   "metadata": {
    "ExecuteTime": {
     "end_time": "2025-07-15T15:06:43.820715Z",
     "start_time": "2025-07-15T15:06:43.771012Z"
    }
   },
   "cell_type": "code",
   "source": [
    "mention_counts = con.execute(\n",
    "    \"\"\"\n",
    "    SELECT ticker, COUNT(*) AS mentions\n",
    "    FROM ticker_mentions\n",
    "    GROUP BY ticker\n",
    "    ORDER BY mentions DESC\n",
    "    \"\"\"\n",
    ").fetchdf()\n",
    "con.close()\n",
    "display(mention_counts)"
   ],
   "id": "a532762a6ab3ac04",
   "outputs": [
    {
     "data": {
      "text/plain": [
       "  ticker  mentions\n",
       "0   NVDA        15\n",
       "1    BTC         9\n",
       "2  GOOGL         6\n",
       "3   AAPL         5\n",
       "4   MSFT         5\n",
       "5   AMZN         3\n",
       "6    XRP         2"
      ],
      "text/html": [
       "<div>\n",
       "<style scoped>\n",
       "    .dataframe tbody tr th:only-of-type {\n",
       "        vertical-align: middle;\n",
       "    }\n",
       "\n",
       "    .dataframe tbody tr th {\n",
       "        vertical-align: top;\n",
       "    }\n",
       "\n",
       "    .dataframe thead th {\n",
       "        text-align: right;\n",
       "    }\n",
       "</style>\n",
       "<table border=\"1\" class=\"dataframe\">\n",
       "  <thead>\n",
       "    <tr style=\"text-align: right;\">\n",
       "      <th></th>\n",
       "      <th>ticker</th>\n",
       "      <th>mentions</th>\n",
       "    </tr>\n",
       "  </thead>\n",
       "  <tbody>\n",
       "    <tr>\n",
       "      <th>0</th>\n",
       "      <td>NVDA</td>\n",
       "      <td>15</td>\n",
       "    </tr>\n",
       "    <tr>\n",
       "      <th>1</th>\n",
       "      <td>BTC</td>\n",
       "      <td>9</td>\n",
       "    </tr>\n",
       "    <tr>\n",
       "      <th>2</th>\n",
       "      <td>GOOGL</td>\n",
       "      <td>6</td>\n",
       "    </tr>\n",
       "    <tr>\n",
       "      <th>3</th>\n",
       "      <td>AAPL</td>\n",
       "      <td>5</td>\n",
       "    </tr>\n",
       "    <tr>\n",
       "      <th>4</th>\n",
       "      <td>MSFT</td>\n",
       "      <td>5</td>\n",
       "    </tr>\n",
       "    <tr>\n",
       "      <th>5</th>\n",
       "      <td>AMZN</td>\n",
       "      <td>3</td>\n",
       "    </tr>\n",
       "    <tr>\n",
       "      <th>6</th>\n",
       "      <td>XRP</td>\n",
       "      <td>2</td>\n",
       "    </tr>\n",
       "  </tbody>\n",
       "</table>\n",
       "</div>"
      ]
     },
     "metadata": {},
     "output_type": "display_data"
    }
   ],
   "execution_count": 35
  }
 ],
 "metadata": {
  "kernelspec": {
   "display_name": "Python 3 (ipykernel)",
   "language": "python",
   "name": "python3"
  },
  "language_info": {
   "codemirror_mode": {
    "name": "ipython",
    "version": 3
   },
   "file_extension": ".py",
   "mimetype": "text/x-python",
   "name": "python",
   "nbconvert_exporter": "python",
   "pygments_lexer": "ipython3",
   "version": "3.11.9"
  }
 },
 "nbformat": 4,
 "nbformat_minor": 5
}
