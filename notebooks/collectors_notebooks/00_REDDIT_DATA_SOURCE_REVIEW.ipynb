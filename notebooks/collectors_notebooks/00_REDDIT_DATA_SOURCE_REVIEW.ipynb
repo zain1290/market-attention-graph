{
 "cells": [
  {
   "cell_type": "markdown",
   "id": "8b6d817f",
   "metadata": {},
   "source": [
    "# Reddit Data Source Review\n",
    "\n",
    "This notebook documents the evaluation of Reddit as a real-time data source for market attention signals."
   ]
  },
  {
   "cell_type": "markdown",
   "id": "c70e9cbb",
   "metadata": {},
   "source": [
    "## Objective\n",
    "The goal was to stream Reddit posts in real-time to detect mentions of specific stock and crypto tickers, and evaluate Reddit’s usefulness for a market attention dashboard."
   ]
  },
  {
   "cell_type": "code",
   "execution_count": 24,
   "id": "c02415e1",
   "metadata": {
    "ExecuteTime": {
     "end_time": "2025-07-05T15:45:29.730209Z",
     "start_time": "2025-07-05T15:45:29.719289Z"
    }
   },
   "outputs": [],
   "source": [
    "from dotenv import load_dotenv\n",
    "import os\n",
    "import asyncpraw\n",
    "import asyncio\n",
    "from datetime import datetime\n",
    "import re\n",
    "import pandas as pd\n",
    "\n",
    "# Load credentials\n",
    "load_dotenv()\n",
    "client_id = os.getenv(\"REDDIT_CLIENT_ID\")\n",
    "client_secret = os.getenv(\"REDDIT_CLIENT_SECRET\")\n",
    "user_agent = os.getenv(\"USER_AGENT\")\n",
    "\n",
    "TICKERS = {\"GOOGL\", \"AAPL\", \"AMZN\", \"NVDA\", \"MSFT\", \"BTC\", \"XRP\"}\n",
    "SUBREDDITS = \"personalfinance+stocks+wallstreetbets+investing+CryptoCurrency\""
   ]
  },
  {
   "cell_type": "markdown",
   "id": "466d0afba2cd15ad",
   "metadata": {},
   "source": [
    "We first load our credentials to be authenticated by the API and strat using it. This contains the tickers used within the corresponding subreddits."
   ]
  },
  {
   "cell_type": "code",
   "execution_count": 25,
   "id": "9e5533a0c5e331dd",
   "metadata": {
    "ExecuteTime": {
     "end_time": "2025-07-05T15:45:41.604833Z",
     "start_time": "2025-07-05T15:45:41.594690Z"
    }
   },
   "outputs": [],
   "source": [
    "async def stream_posts():\n",
    "    reddit = asyncpraw.Reddit(\n",
    "        client_id=client_id,\n",
    "        client_secret=client_secret,\n",
    "        user_agent=user_agent\n",
    "    )\n",
    "    subreddit = await reddit.subreddit(SUBREDDITS)\n",
    "    async for post in subreddit.stream.submissions(skip_existing=True):\n",
    "        text = (post.title or \"\") + \" \" + (post.selftext or \"\")\n",
    "        words = set(re.findall(r\"\\b[A-Z]{2,5}\\b\", text.upper()))\n",
    "        matched = TICKERS & words\n",
    "        if matched:\n",
    "            print(f\"[{datetime.utcnow()}] 🧠 [{post.subreddit}] {post.title} — matched: {matched}\")\n",
    "\n",
    "    await reddit.close()\n"
   ]
  },
  {
   "cell_type": "markdown",
   "id": "2f80967b21a4e922",
   "metadata": {},
   "source": [
    "This was the original function for retrieving the posts from reddit. In practical use, instead of printing the posts matched, we would save the posts with its metadata to a database or json file for later use."
   ]
  },
  {
   "cell_type": "code",
   "id": "6b94a922041dd7a",
   "metadata": {
    "ExecuteTime": {
     "end_time": "2025-07-06T16:00:31.114947Z",
     "start_time": "2025-07-06T16:00:31.069900Z"
    }
   },
   "source": [
    "async def stream_posts(max_results: int = 5):\n",
    "\n",
    "    # set up reddit client\n",
    "    reddit = asyncpraw.Reddit(\n",
    "        client_id=client_id,\n",
    "        client_secret=client_secret,\n",
    "        user_agent=user_agent\n",
    "    )\n",
    "\n",
    "    subreddit = await reddit.subreddit(SUBREDDITS)\n",
    "    seen = 0\n",
    "\n",
    "    async for post in subreddit.stream.submissions(skip_existing=False):\n",
    "        text = (post.title or \"\") + \" \" + (post.selftext or \"\")\n",
    "        words = set(re.findall(r\"\\b[A-Z]{2,5}\\b\", text.upper()))\n",
    "        matched = TICKERS & words\n",
    "\n",
    "        print(f\"[{datetime.utcnow()}] | [{post.subreddit}] {post.title} ({post.id}) — matched: {matched}\")\n",
    "        seen+=1\n",
    "        if seen >= max_results:\n",
    "            break\n",
    "\n",
    "    await reddit.close()\n"
   ],
   "outputs": [],
   "execution_count": 51
  },
  {
   "cell_type": "code",
   "id": "68707624936b6d9c",
   "metadata": {
    "ExecuteTime": {
     "end_time": "2025-07-06T16:00:34.773910Z",
     "start_time": "2025-07-06T16:00:32.458404Z"
    }
   },
   "source": [
    "await stream_posts(5)"
   ],
   "outputs": [
    {
     "name": "stdout",
     "output_type": "stream",
     "text": [
      "[2025-07-06 16:00:34.753904] | [CryptoCurrency] Those who like squeezing in the era of the dollar collapse- Altcoins preparing for massive breakout (1lsug2s) — matched: {'BTC'}\n",
      "[2025-07-06 16:00:34.753904] | [personalfinance] Can i afford this home? Should i buy? (1lsulnl) — matched: set()\n",
      "[2025-07-06 16:00:34.753904] | [CryptoCurrency] Are airdrops actually legit? (1lsum80) — matched: {'BTC'}\n",
      "[2025-07-06 16:00:34.753904] | [CryptoCurrency] I'm getting spammed with 0.000001 USDT transactions on Polygon – from random wallets. Why? (1lsun6g) — matched: set()\n",
      "[2025-07-06 16:00:34.753904] | [CryptoCurrency] Gold Explorer Joins Bitcoin Treasury Bandwagon - Decrypt (1lsuwg6) — matched: set()\n"
     ]
    }
   ],
   "execution_count": 52
  },
  {
   "cell_type": "markdown",
   "id": "ce805ad7704f91eb",
   "metadata": {},
   "source": [
    "After changing the function to limit to 5 posts, removing the constraint for new posts and also stop filtering the stream of posts, we get these 5 random posts from the subreddits. If either of this was reverted back to the original code, it would take quite a long time to get the desired results."
   ]
  },
  {
   "cell_type": "code",
   "execution_count": 47,
   "id": "32878d6343d3eee1",
   "metadata": {
    "ExecuteTime": {
     "end_time": "2025-07-05T15:55:22.287925Z",
     "start_time": "2025-07-05T15:55:22.276269Z"
    }
   },
   "outputs": [],
   "source": [
    "async def stream_posts(max_results: int = 5):\n",
    "\n",
    "    # set up reddit client\n",
    "    reddit = asyncpraw.Reddit(\n",
    "        client_id=client_id,\n",
    "        client_secret=client_secret,\n",
    "        user_agent=user_agent\n",
    "    )\n",
    "\n",
    "    subreddit = await reddit.subreddit(SUBREDDITS)\n",
    "    seen = 0\n",
    "    rows = []\n",
    "\n",
    "    async for post in subreddit.stream.submissions(skip_existing=False):\n",
    "        text = (post.title or \"\") + \" \" + (post.selftext or \"\")\n",
    "        words = set(re.findall(r\"\\b[A-Z]{2,5}\\b\", text.upper()))\n",
    "\n",
    "        seen+=1\n",
    "\n",
    "        rows.append({\n",
    "            \"subreddit\"    : str(post.subreddit),\n",
    "            \"title\"        : post.title,\n",
    "            \"score\"        : post.score,\n",
    "            \"ups\"          : post.ups,\n",
    "            \"downs\"        : post.downs,\n",
    "        })\n",
    "\n",
    "        if seen >= max_results:\n",
    "            break\n",
    "\n",
    "    await reddit.close()\n",
    "\n",
    "    return pd.DataFrame(rows)\n"
   ]
  },
  {
   "cell_type": "code",
   "execution_count": 50,
   "id": "554717b6c7f42e18",
   "metadata": {
    "ExecuteTime": {
     "end_time": "2025-07-05T17:58:21.355505Z",
     "start_time": "2025-07-05T17:58:19.796828Z"
    }
   },
   "outputs": [
    {
     "data": {
      "text/html": [
       "<div>\n",
       "<style scoped>\n",
       "    .dataframe tbody tr th:only-of-type {\n",
       "        vertical-align: middle;\n",
       "    }\n",
       "\n",
       "    .dataframe tbody tr th {\n",
       "        vertical-align: top;\n",
       "    }\n",
       "\n",
       "    .dataframe thead th {\n",
       "        text-align: right;\n",
       "    }\n",
       "</style>\n",
       "<table border=\"1\" class=\"dataframe\">\n",
       "  <thead>\n",
       "    <tr style=\"text-align: right;\">\n",
       "      <th></th>\n",
       "      <th>subreddit</th>\n",
       "      <th>title</th>\n",
       "      <th>score</th>\n",
       "      <th>ups</th>\n",
       "      <th>downs</th>\n",
       "    </tr>\n",
       "  </thead>\n",
       "  <tbody>\n",
       "    <tr>\n",
       "      <th>0</th>\n",
       "      <td>investing</td>\n",
       "      <td>Best app for investing that you use?</td>\n",
       "      <td>14</td>\n",
       "      <td>14</td>\n",
       "      <td>0</td>\n",
       "    </tr>\n",
       "    <tr>\n",
       "      <th>1</th>\n",
       "      <td>personalfinance</td>\n",
       "      <td>Has anyone here successfully used emergency debt relief during a financial crisis? How did it work out?</td>\n",
       "      <td>0</td>\n",
       "      <td>0</td>\n",
       "      <td>0</td>\n",
       "    </tr>\n",
       "    <tr>\n",
       "      <th>2</th>\n",
       "      <td>CryptoCurrency</td>\n",
       "      <td>Haters of XRP… Why? Only Real, Thoughtful Answers Please</td>\n",
       "      <td>0</td>\n",
       "      <td>0</td>\n",
       "      <td>0</td>\n",
       "    </tr>\n",
       "    <tr>\n",
       "      <th>3</th>\n",
       "      <td>personalfinance</td>\n",
       "      <td>Is it better to have two people on a house loan even if one doesn’t have credit?</td>\n",
       "      <td>0</td>\n",
       "      <td>0</td>\n",
       "      <td>0</td>\n",
       "    </tr>\n",
       "    <tr>\n",
       "      <th>4</th>\n",
       "      <td>personalfinance</td>\n",
       "      <td>Savings for Grad School + Retirement</td>\n",
       "      <td>3</td>\n",
       "      <td>3</td>\n",
       "      <td>0</td>\n",
       "    </tr>\n",
       "  </tbody>\n",
       "</table>\n",
       "</div>"
      ],
      "text/plain": [
       "         subreddit  \\\n",
       "0        investing   \n",
       "1  personalfinance   \n",
       "2   CryptoCurrency   \n",
       "3  personalfinance   \n",
       "4  personalfinance   \n",
       "\n",
       "                                                                                                     title  \\\n",
       "0                                                                     Best app for investing that you use?   \n",
       "1  Has anyone here successfully used emergency debt relief during a financial crisis? How did it work out?   \n",
       "2                                                 Haters of XRP… Why? Only Real, Thoughtful Answers Please   \n",
       "3                         Is it better to have two people on a house loan even if one doesn’t have credit?   \n",
       "4                                                                     Savings for Grad School + Retirement   \n",
       "\n",
       "   score  ups  downs  \n",
       "0     14   14      0  \n",
       "1      0    0      0  \n",
       "2      0    0      0  \n",
       "3      0    0      0  \n",
       "4      3    3      0  "
      ]
     },
     "execution_count": 50,
     "metadata": {},
     "output_type": "execute_result"
    }
   ],
   "source": [
    "pd.set_option(\"display.max_columns\", None)\n",
    "pd.set_option(\"display.max_colwidth\", None)\n",
    "pd.set_option(\"display.width\", 0)\n",
    "\n",
    "df = await stream_posts(5)\n",
    "df.head()"
   ]
  },
  {
   "cell_type": "markdown",
   "id": "84093a4e00ef5d2a",
   "metadata": {},
   "source": [
    "If we were to use reddit as a data source, this is how we would save it for further use. A table of the data collected would like this."
   ]
  },
  {
   "cell_type": "markdown",
   "id": "9a4fd069",
   "metadata": {},
   "source": [
    "## Observations & Findings\n",
    "\n",
    "- Subreddits used: `personalfinance`, `stocks`, `wallstreetbets`, `investing`, `CryptoCurrency`.\n",
    "- Tickers monitored: `GOOGL`, `AAPL`, `AMZN`, `NVDA`, `MSFT`, `BTC`, `XRP`.\n",
    "\n",
    "### Match Volume:\n",
    "- Extremely low match rate (~1–3/hour) even with active subreddits.\n",
    "- Many posts containing tickers were **not relevant**."
   ]
  },
  {
   "cell_type": "markdown",
   "id": "1951d829",
   "metadata": {},
   "source": [
    "## Conclusion\n",
    "\n",
    "Reddit alone is **not sufficient** for real-time attention monitoring due to:\n",
    "- Sparse volume for specific tickers.\n",
    "- High noise-to-signal ratio.\n",
    "- Inconsistent naming (tickers vs. full names)."
   ]
  }
 ],
 "metadata": {
  "kernelspec": {
   "display_name": "Python 3 (ipykernel)",
   "language": "python",
   "name": "python3"
  },
  "language_info": {
   "codemirror_mode": {
    "name": "ipython",
    "version": 3
   },
   "file_extension": ".py",
   "mimetype": "text/x-python",
   "name": "python",
   "nbconvert_exporter": "python",
   "pygments_lexer": "ipython3",
   "version": "3.11.9"
  }
 },
 "nbformat": 4,
 "nbformat_minor": 5
}
