{
 "cells": [
  {
   "metadata": {},
   "cell_type": "markdown",
   "source": [
    "# RSS News Stream\n",
    "\n",
    "This notebook polls a collection of **finance/economy RSS feeds** every 15 minutes,\n",
    "extracts headlines that mention a watch-list of companies/tickers, and stores the\n",
    "data in the same **`market_attention.duckdb`** file we used for the GDELT stream.\n",
    "\n",
    "That means you can join *RSS* articles, *GDELT* articles, and *Alpaca* price data\n",
    "in one place for unified attention analytics.\n",
    "\n",
    "**Feeds included** (edit `RSS_FEEDS` below to customise):\n",
    "- Yahoo Finance Top Stories\n",
    "- Investing.com Market News\n",
    "- CNBC Markets\n",
    "- MarketWatch Top Stories\n",
    "- CoinDesk crypto news\n",
    "- Bloomberg ETF Report podcast (metadata only)\n",
    "- Wall Street Journal Markets\n",
    "- The Economist Finance & Economics\n",
    "- NY Times Business & Economy\n",
    "\n",
    "---\n"
   ],
   "id": "8cdbd4d258c3c85b"
  },
  {
   "metadata": {},
   "cell_type": "markdown",
   "source": "## Imports & configuration",
   "id": "4bad35bd7153aa19"
  },
  {
   "metadata": {
    "ExecuteTime": {
     "end_time": "2025-07-14T22:39:19.080736Z",
     "start_time": "2025-07-14T22:39:18.205148Z"
    }
   },
   "cell_type": "code",
   "source": [
    "import feedparser\n",
    "import duckdb\n",
    "import hashlib\n",
    "import time\n",
    "from datetime import datetime, timezone\n",
    "from pathlib import Path\n",
    "import nest_asyncio\n",
    "import pandas as pd\n",
    "\n",
    "# When running inside Jupyter we need this so `time.sleep` doesn’t block interrupts\n",
    "nest_asyncio.apply()\n"
   ],
   "id": "8fb57d7f02dd11a7",
   "outputs": [],
   "execution_count": 4
  },
  {
   "metadata": {},
   "cell_type": "markdown",
   "source": "### Feed list & watch-list",
   "id": "9208ac93d833addd"
  },
  {
   "metadata": {
    "ExecuteTime": {
     "end_time": "2025-07-14T22:39:20.861118Z",
     "start_time": "2025-07-14T22:39:20.845173Z"
    }
   },
   "cell_type": "code",
   "source": [
    "RSS_FEEDS = [\n",
    "    \"https://finance.yahoo.com/rss/\",\n",
    "    \"https://www.investing.com/rss/news_301.rss\",\n",
    "    \"https://www.cnbc.com/id/100003114/device/rss/rss.html\",\n",
    "    \"https://www.marketwatch.com/rss/topstories\",\n",
    "    \"https://www.coindesk.com/arc/outboundfeeds/rss/\",\n",
    "    \"https://www.bloomberg.com/feed/podcast/etf-report.xml\",\n",
    "    \"https://feeds.a.dj.com/rss/RSSMarketsMain.xml\",\n",
    "    \"https://www.economist.com/finance-and-economics/rss.xml\",\n",
    "    \"https://rss.nytimes.com/services/xml/rss/nyt/Business.xml\",\n",
    "    \"https://rss.nytimes.com/services/xml/rss/nyt/Economy.xml\",\n",
    "]\n",
    "\n",
    "COMPANY_NAMES = {\n",
    "    \"Google\": \"GOOGL\",\n",
    "    \"Apple\": \"AAPL\",\n",
    "    \"Amazon\": \"AMZN\",\n",
    "    \"Nvidia\": \"NVDA\",\n",
    "    \"Microsoft\": \"MSFT\",\n",
    "    \"Bitcoin\": \"BTC\",\n",
    "    \"XRP\": \"XRP\",\n",
    "}\n",
    "\n",
    "print(\"Tracking:\", list(COMPANY_NAMES.keys()))\n"
   ],
   "id": "fc334ad0a2ec76d8",
   "outputs": [
    {
     "name": "stdout",
     "output_type": "stream",
     "text": [
      "Tracking: ['Google', 'Apple', 'Amazon', 'Nvidia', 'Microsoft', 'Bitcoin', 'XRP']\n"
     ]
    }
   ],
   "execution_count": 5
  },
  {
   "metadata": {},
   "cell_type": "markdown",
   "source": [
    "### Database path\n",
    "We store everything in `data/market_attention.duckdb` under the current working\n",
    "directory so this notebook behaves the same no matter where it lives.\n"
   ],
   "id": "daa1fe982624a36d"
  },
  {
   "metadata": {
    "ExecuteTime": {
     "end_time": "2025-07-15T15:33:29.763359Z",
     "start_time": "2025-07-15T15:33:29.703893Z"
    }
   },
   "cell_type": "code",
   "source": [
    "DB_PATH = (Path.cwd().parent.parent / \"src\" / \"data\" / \"market_attention.duckdb\").resolve()\n",
    "DB_PATH.parent.mkdir(parents=True, exist_ok=True)\n",
    "print(\"DB path:\", DB_PATH)\n",
    "\n",
    "# Ensure the schema exists up-front so the first poll doesn’t need to create it.\n",
    "with duckdb.connect(DB_PATH) as con:\n",
    "    con.execute(\n",
    "        \"\"\"\n",
    "        CREATE TABLE IF NOT EXISTS news_articles (\n",
    "            article_id TEXT PRIMARY KEY,\n",
    "            title TEXT,\n",
    "            timestamp TIMESTAMP\n",
    "        );\n",
    "        \"\"\"\n",
    "    )\n",
    "    con.execute(\n",
    "        \"\"\"\n",
    "        CREATE TABLE IF NOT EXISTS ticker_mentions (\n",
    "            article_id TEXT,\n",
    "            ticker TEXT\n",
    "        );\n",
    "        \"\"\"\n",
    "    )\n"
   ],
   "id": "13ea37aea6ec3f69",
   "outputs": [
    {
     "name": "stdout",
     "output_type": "stream",
     "text": [
      "DB path: C:\\Users\\zaina\\PycharmProjects\\Market-Attention-Graph\\src\\data\\market_attention.duckdb\n"
     ]
    }
   ],
   "execution_count": 17
  },
  {
   "metadata": {},
   "cell_type": "markdown",
   "source": "## Helper functions\n",
   "id": "2eb3cfda03fcc6b1"
  },
  {
   "metadata": {
    "ExecuteTime": {
     "end_time": "2025-07-14T22:39:27.577198Z",
     "start_time": "2025-07-14T22:39:27.564319Z"
    }
   },
   "cell_type": "code",
   "source": [
    "\n",
    "def hash_id(text: str) -> str:\n",
    "    \"\"\"Return a deterministic 64-char SHA-256 hex digest.\"\"\"\n",
    "    return hashlib.sha256(text.encode()).hexdigest()\n",
    "\n",
    "\n",
    "def store_article(con: duckdb.DuckDBPyConnection, title: str, url: str, ts, mentions):\n",
    "    \"\"\"Insert the article row + mention rows if not already present.\"\"\"\n",
    "    article_id = hash_id(url)\n",
    "\n",
    "    try:\n",
    "        con.execute(\n",
    "            \"INSERT INTO news_articles VALUES (?, ?, ?)\",\n",
    "            (article_id, title, ts),\n",
    "        )\n",
    "    except duckdb.ConstraintException:\n",
    "        return  # duplicate URL -> skip\n",
    "\n",
    "    for ticker in mentions:\n",
    "        con.execute(\n",
    "            \"INSERT INTO ticker_mentions VALUES (?, ?)\",\n",
    "            (article_id, ticker),\n",
    "        )\n",
    "\n",
    "\n",
    "def poll_once(con: duckdb.DuckDBPyConnection) -> int:\n",
    "    \"\"\"Scan all feeds once; return number of matching headlines stored.\"\"\"\n",
    "    count = 0\n",
    "    for url in RSS_FEEDS:\n",
    "        feed = feedparser.parse(url)\n",
    "        for entry in feed.entries:\n",
    "            title = getattr(entry, \"title\", \"\")\n",
    "            link = getattr(entry, \"link\", \"\")\n",
    "            if not title or not link:\n",
    "                continue\n",
    "            if hasattr(entry, \"published_parsed\") and entry.published_parsed:\n",
    "                ts = datetime.fromtimestamp(time.mktime(entry.published_parsed), timezone.utc)\n",
    "            else:\n",
    "                ts = datetime.utcnow().replace(tzinfo=timezone.utc)\n",
    "\n",
    "            mentions = [\n",
    "                ticker\n",
    "                for name, ticker in COMPANY_NAMES.items()\n",
    "                if name.lower() in title.lower() or ticker.lower() in title.lower()\n",
    "            ]\n",
    "            if mentions:\n",
    "                store_article(con, title, link, ts, mentions)\n",
    "                count += 1\n",
    "    return count\n"
   ],
   "id": "1e08df62670d2652",
   "outputs": [],
   "execution_count": 7
  },
  {
   "metadata": {},
   "cell_type": "markdown",
   "source": [
    "## Poll loop (15-minute interval)\n",
    "Run this cell to start continuous polling. Stop with *Kernel → Interrupt*.\n"
   ],
   "id": "207007ab9671ee54"
  },
  {
   "metadata": {
    "ExecuteTime": {
     "end_time": "2025-07-14T22:39:34.062503Z",
     "start_time": "2025-07-14T22:39:34.053719Z"
    }
   },
   "cell_type": "code",
   "source": [
    "\n",
    "def poll_rss(interval_seconds: int = 900):\n",
    "    con = duckdb.connect(DB_PATH)\n",
    "    try:\n",
    "        while True:\n",
    "            print(f\"[{datetime.utcnow()}] 🔎 Polling RSS feeds…\")\n",
    "            added = poll_once(con)\n",
    "            print(f\"[+] Stored {added} matched articles.\")\n",
    "            time.sleep(interval_seconds)\n",
    "    except KeyboardInterrupt:\n",
    "        print(\"RSS polling stopped by user.\")\n"
   ],
   "id": "f7a1484998826d13",
   "outputs": [],
   "execution_count": 8
  },
  {
   "metadata": {},
   "cell_type": "code",
   "outputs": [],
   "execution_count": null,
   "source": "poll_rss()",
   "id": "beed7e0a0d234257"
  },
  {
   "metadata": {},
   "cell_type": "markdown",
   "source": "## Quick look at what we have so far\n",
   "id": "4c033d5d16c0be7b"
  },
  {
   "metadata": {
    "ExecuteTime": {
     "end_time": "2025-07-15T15:12:02.119028Z",
     "start_time": "2025-07-15T15:12:02.001804Z"
    }
   },
   "cell_type": "code",
   "source": [
    "con = duckdb.connect(DB_PATH)\n",
    "df = con.execute(\"SELECT title, timestamp FROM news_articles ORDER BY timestamp DESC LIMIT 10\").fetchdf()\n",
    "display(df)"
   ],
   "id": "33ff0df2f23df5f6",
   "outputs": [
    {
     "data": {
      "text/plain": [
       "                                               title           timestamp\n",
       "0  BTC Volatility Hit Historic Lows as ETF Inflow... 2025-07-15 16:00:37\n",
       "1  Wall Street Cheers Nvidia's Return To China AI... 2025-07-15 15:49:53\n",
       "2  MP Materials stock rips 23% higher after $500 ... 2025-07-15 15:28:14\n",
       "3  Google to invest $25 billion in data centers a... 2025-07-15 15:27:11\n",
       "4  Nvidia’s stock pops as China win may pave the ... 2025-07-15 15:27:00\n",
       "5  Stock Market Today: Dow Wavers After Inflation... 2025-07-15 15:23:19\n",
       "6  Nvidia Stock Reaches for Another Record, Lifts... 2025-07-15 15:17:48\n",
       "7  Nvidia Says U.S. Has Lifted Restrictions on A.... 2025-07-15 15:17:02\n",
       "8  Nvidia Jumps As Trump Administration Will Let ... 2025-07-15 15:04:24\n",
       "9  Apple Partners With MP Materials On Rare-Earth... 2025-07-15 15:04:16"
      ],
      "text/html": [
       "<div>\n",
       "<style scoped>\n",
       "    .dataframe tbody tr th:only-of-type {\n",
       "        vertical-align: middle;\n",
       "    }\n",
       "\n",
       "    .dataframe tbody tr th {\n",
       "        vertical-align: top;\n",
       "    }\n",
       "\n",
       "    .dataframe thead th {\n",
       "        text-align: right;\n",
       "    }\n",
       "</style>\n",
       "<table border=\"1\" class=\"dataframe\">\n",
       "  <thead>\n",
       "    <tr style=\"text-align: right;\">\n",
       "      <th></th>\n",
       "      <th>title</th>\n",
       "      <th>timestamp</th>\n",
       "    </tr>\n",
       "  </thead>\n",
       "  <tbody>\n",
       "    <tr>\n",
       "      <th>0</th>\n",
       "      <td>BTC Volatility Hit Historic Lows as ETF Inflow...</td>\n",
       "      <td>2025-07-15 16:00:37</td>\n",
       "    </tr>\n",
       "    <tr>\n",
       "      <th>1</th>\n",
       "      <td>Wall Street Cheers Nvidia's Return To China AI...</td>\n",
       "      <td>2025-07-15 15:49:53</td>\n",
       "    </tr>\n",
       "    <tr>\n",
       "      <th>2</th>\n",
       "      <td>MP Materials stock rips 23% higher after $500 ...</td>\n",
       "      <td>2025-07-15 15:28:14</td>\n",
       "    </tr>\n",
       "    <tr>\n",
       "      <th>3</th>\n",
       "      <td>Google to invest $25 billion in data centers a...</td>\n",
       "      <td>2025-07-15 15:27:11</td>\n",
       "    </tr>\n",
       "    <tr>\n",
       "      <th>4</th>\n",
       "      <td>Nvidia’s stock pops as China win may pave the ...</td>\n",
       "      <td>2025-07-15 15:27:00</td>\n",
       "    </tr>\n",
       "    <tr>\n",
       "      <th>5</th>\n",
       "      <td>Stock Market Today: Dow Wavers After Inflation...</td>\n",
       "      <td>2025-07-15 15:23:19</td>\n",
       "    </tr>\n",
       "    <tr>\n",
       "      <th>6</th>\n",
       "      <td>Nvidia Stock Reaches for Another Record, Lifts...</td>\n",
       "      <td>2025-07-15 15:17:48</td>\n",
       "    </tr>\n",
       "    <tr>\n",
       "      <th>7</th>\n",
       "      <td>Nvidia Says U.S. Has Lifted Restrictions on A....</td>\n",
       "      <td>2025-07-15 15:17:02</td>\n",
       "    </tr>\n",
       "    <tr>\n",
       "      <th>8</th>\n",
       "      <td>Nvidia Jumps As Trump Administration Will Let ...</td>\n",
       "      <td>2025-07-15 15:04:24</td>\n",
       "    </tr>\n",
       "    <tr>\n",
       "      <th>9</th>\n",
       "      <td>Apple Partners With MP Materials On Rare-Earth...</td>\n",
       "      <td>2025-07-15 15:04:16</td>\n",
       "    </tr>\n",
       "  </tbody>\n",
       "</table>\n",
       "</div>"
      ]
     },
     "metadata": {},
     "output_type": "display_data"
    }
   ],
   "execution_count": 15
  },
  {
   "metadata": {},
   "cell_type": "markdown",
   "source": "### Mention counts (all sources combined)\n",
   "id": "942173989bf5aadc"
  },
  {
   "metadata": {
    "ExecuteTime": {
     "end_time": "2025-07-15T15:12:09.722342Z",
     "start_time": "2025-07-15T15:12:09.678586Z"
    }
   },
   "cell_type": "code",
   "source": [
    "mention_counts = con.execute(\n",
    "    \"\"\"\n",
    "    SELECT ticker, COUNT(*) AS mentions\n",
    "    FROM ticker_mentions\n",
    "    GROUP BY ticker\n",
    "    ORDER BY mentions DESC\n",
    "    \"\"\"\n",
    ").fetchdf()\n",
    "con.close()\n",
    "mention_counts"
   ],
   "id": "ab71fb21240241e3",
   "outputs": [
    {
     "data": {
      "text/plain": [
       "  ticker  mentions\n",
       "0   NVDA         9\n",
       "1    BTC         6\n",
       "2  GOOGL         4\n",
       "3   AAPL         2\n",
       "4    XRP         1\n",
       "5   MSFT         1\n",
       "6   AMZN         1"
      ],
      "text/html": [
       "<div>\n",
       "<style scoped>\n",
       "    .dataframe tbody tr th:only-of-type {\n",
       "        vertical-align: middle;\n",
       "    }\n",
       "\n",
       "    .dataframe tbody tr th {\n",
       "        vertical-align: top;\n",
       "    }\n",
       "\n",
       "    .dataframe thead th {\n",
       "        text-align: right;\n",
       "    }\n",
       "</style>\n",
       "<table border=\"1\" class=\"dataframe\">\n",
       "  <thead>\n",
       "    <tr style=\"text-align: right;\">\n",
       "      <th></th>\n",
       "      <th>ticker</th>\n",
       "      <th>mentions</th>\n",
       "    </tr>\n",
       "  </thead>\n",
       "  <tbody>\n",
       "    <tr>\n",
       "      <th>0</th>\n",
       "      <td>NVDA</td>\n",
       "      <td>9</td>\n",
       "    </tr>\n",
       "    <tr>\n",
       "      <th>1</th>\n",
       "      <td>BTC</td>\n",
       "      <td>6</td>\n",
       "    </tr>\n",
       "    <tr>\n",
       "      <th>2</th>\n",
       "      <td>GOOGL</td>\n",
       "      <td>4</td>\n",
       "    </tr>\n",
       "    <tr>\n",
       "      <th>3</th>\n",
       "      <td>AAPL</td>\n",
       "      <td>2</td>\n",
       "    </tr>\n",
       "    <tr>\n",
       "      <th>4</th>\n",
       "      <td>XRP</td>\n",
       "      <td>1</td>\n",
       "    </tr>\n",
       "    <tr>\n",
       "      <th>5</th>\n",
       "      <td>MSFT</td>\n",
       "      <td>1</td>\n",
       "    </tr>\n",
       "    <tr>\n",
       "      <th>6</th>\n",
       "      <td>AMZN</td>\n",
       "      <td>1</td>\n",
       "    </tr>\n",
       "  </tbody>\n",
       "</table>\n",
       "</div>"
      ]
     },
     "execution_count": 16,
     "metadata": {},
     "output_type": "execute_result"
    }
   ],
   "execution_count": 16
  }
 ],
 "metadata": {},
 "nbformat": 4,
 "nbformat_minor": 5
}
